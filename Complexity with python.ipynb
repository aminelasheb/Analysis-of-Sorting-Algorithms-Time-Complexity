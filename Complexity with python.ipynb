{
 "cells": [
  {
   "cell_type": "markdown",
   "metadata": {},
   "source": [
    "# The time and space complexity"
   ]
  },
  {
   "cell_type": "markdown",
   "metadata": {},
   "source": [
    "The time and space complexity of an algorithm depend on various factors such as the input size, the operations performed, and the data structures used. There is no general formula to calculate the complexity of an algorithm, but it can be analyzed and estimated through various techniques such as counting the number of basic operations, using mathematical models, or by conducting experiments."
   ]
  },
  {
   "cell_type": "markdown",
   "metadata": {},
   "source": [
    "In Python, the performance of an algorithm can be measured using the timeit module, which allow us to measure the execution time of small bits of Python code. It can provide a rough estimate of the running time of an algorithm for a given input size."
   ]
  },
  {
   "cell_type": "markdown",
   "metadata": {},
   "source": [
    "Example of how we can measure the time complexity of a Python function using the timeit module:"
   ]
  },
  {
   "cell_type": "code",
   "execution_count": 10,
   "metadata": {
    "scrolled": true
   },
   "outputs": [
    {
     "name": "stdout",
     "output_type": "stream",
     "text": [
      "Time: 0.04994160000001102\n"
     ]
    }
   ],
   "source": [
    "import timeit\n",
    "\n",
    "def my_function(n):\n",
    "    result = 0\n",
    "    for i in range(n):\n",
    "        result += i\n",
    "    return result\n",
    "\n",
    "print(\"Time:\", timeit.timeit(lambda: my_function(1000), number=1000))"
   ]
  },
  {
   "cell_type": "markdown",
   "metadata": {},
   "source": [
    "This will print the time taken to run the my_function with an input of size 1000, repeated 1000 times. The result will give us an estimate of the time complexity of the function.\n",
    "\n",
    "NOTE:The time complexity calculation using the timeit module may not be very accurate, as it can be influenced by various factors such as the CPU load, memory usage, and the operating system. But it's a useful tool to get a rough estimate of the running time of our code."
   ]
  },
  {
   "cell_type": "markdown",
   "metadata": {},
   "source": [
    "# Working with some sort algorithms :"
   ]
  },
  {
   "cell_type": "code",
   "execution_count": 11,
   "metadata": {},
   "outputs": [],
   "source": [
    "import random\n",
    "import timeit\n",
    "\n",
    "def bubble_sort(arr):\n",
    "    n = len(arr)\n",
    "    for i in range(n):\n",
    "        for j in range(0, n-i-1):\n",
    "            if arr[j] > arr[j+1]:\n",
    "                arr[j], arr[j+1] = arr[j+1], arr[j]\n",
    "    return arr\n",
    "\n",
    "def selection_sort(arr):\n",
    "    n = len(arr)\n",
    "    for i in range(n):\n",
    "        min_idx = i\n",
    "        for j in range(i+1, n):\n",
    "            if arr[j] < arr[min_idx]:\n",
    "                min_idx = j\n",
    "        arr[i], arr[min_idx] = arr[min_idx], arr[i]\n",
    "    return arr\n",
    "\n",
    "def insertion_sort(arr):\n",
    "    n = len(arr)\n",
    "    for i in range(1, n):\n",
    "        key = arr[i]\n",
    "        j = i-1\n",
    "        while j >= 0 and key < arr[j]:\n",
    "            arr[j+1] = arr[j]\n",
    "            j -= 1\n",
    "        arr[j+1] = key\n",
    "    return arr\n"
   ]
  },
  {
   "cell_type": "markdown",
   "metadata": {},
   "source": [
    "Now, we create an array of sorting functions (bubble sort, selection sort, insertion sort), and an array of their names. It then generates a random list of 1000 numbers, and times how long each sorting function takes to sort that list 100 times. The results are stored in a pandas dataframe, which is printed at the end"
   ]
  },
  {
   "cell_type": "code",
   "execution_count": 12,
   "metadata": {},
   "outputs": [
    {
     "name": "stdout",
     "output_type": "stream",
     "text": [
      "   Sort Algorithm  Time (s)\n",
      "0     Bubble Sort  0.083673\n",
      "1  Selection Sort  0.036558\n",
      "2  Insertion Sort  0.043146\n"
     ]
    }
   ],
   "source": [
    "import pandas as pd\n",
    "\n",
    "sort_functions = [bubble_sort, selection_sort, insertion_sort]\n",
    "sort_function_names = [\"Bubble Sort\", \"Selection Sort\", \"Insertion Sort\"]\n",
    "\n",
    "n = 100\n",
    "random_data = random.sample(range(n), n)\n",
    "\n",
    "times = []\n",
    "for i, sort_func in enumerate(sort_functions):\n",
    "    time = timeit.timeit(lambda: sort_func(random_data.copy()), number=100)\n",
    "    times.append(time)\n",
    "\n",
    "df = pd.DataFrame({\"Sort Algorithm\": sort_function_names, \"Time (s)\": times})\n",
    "print(df)\n"
   ]
  },
  {
   "cell_type": "markdown",
   "metadata": {},
   "source": [
    "# Complexity O()"
   ]
  },
  {
   "cell_type": "markdown",
   "metadata": {},
   "source": [
    "To get the complexity of the sorting algorithms in terms of \"n\", we can measure the time it takes for each algorithm to sort an array of increasing size, and then fit a curve to the data to estimate the growth rate of the running time as \"n\" increases. The most common growth rate functions for sorting algorithms are O(n^2), O(n log n), and O(n), which correspond to quadratic, logarithmic, and linear time complexity, respectively. To determine the best-fit growth rate for our data, we can use regression analysis or curve-fitting techniques, such as linear regression or polynomial regression."
   ]
  },
  {
   "cell_type": "code",
   "execution_count": 13,
   "metadata": {},
   "outputs": [
    {
     "data": {
      "image/png": "[encoded data removed]",
      "text/plain": [
       "<Figure size 432x288 with 1 Axes>"
      ]
     },
     "metadata": {
      "needs_background": "light"
     },
     "output_type": "display_data"
    }
   ],
   "source": [
    "from sklearn.linear_model import LinearRegression\n",
    "import matplotlib.pyplot as plt\n",
    "import numpy as np\n",
    "\n",
    "sort_functions = [bubble_sort, selection_sort, insertion_sort]\n",
    "sort_function_names = [\"Bubble Sort\", \"Selection Sort\", \"Insertion Sort\"]\n",
    "\n",
    "max_n = 1000\n",
    "ns = np.arange(100, max_n + 100, 100)\n",
    "\n",
    "times = []\n",
    "for sort_func in sort_functions:\n",
    "    time = []\n",
    "    for n in ns:\n",
    "        random_data = random.sample(range(n), n)\n",
    "        t = timeit.timeit(lambda: sort_func(random_data.copy()), number=100)\n",
    "        time.append(t)\n",
    "    times.append(time)\n",
    "\n",
    "regressions = []\n",
    "for time in times:\n",
    "    X = ns.reshape(-1, 1)\n",
    "    y = np.array(time)\n",
    "    reg = LinearRegression().fit(X, y)\n",
    "    regressions.append(reg)\n",
    "\n",
    "for i, reg in enumerate(regressions):\n",
    "    plt.plot(ns, reg.predict(ns.reshape(-1, 1)), label=sort_function_names[i])\n",
    "    plt.scatter(ns, times[i], label=sort_function_names[i])\n",
    "plt.xlabel(\"n\")\n",
    "plt.ylabel(\"Time (s)\")\n",
    "plt.legend()\n",
    "plt.show()"
   ]
  },
  {
   "cell_type": "markdown",
   "metadata": {},
   "source": [
    "First we create an array ns of increasing values of \"n\", then use timeit to measure the running time of each sorting algorithm on arrays of size n, and repeats this measurement 100 times for each \"n\". The resulting running times are then used to fit a linear regression model for each sorting algorithm, and the slope of the regression line can be used as a rough estimate of the time complexity. The code then plots the actual running times and the predicted running times from the regression models for comparison."
   ]
  },
  {
   "cell_type": "code",
   "execution_count": 14,
   "metadata": {},
   "outputs": [
    {
     "name": "stdout",
     "output_type": "stream",
     "text": [
      "        Algorithm     Slope  Intercept       MSE        R2\n",
      "0     Bubble Sort  0.009347  -1.945310  0.433148  0.943311\n",
      "1  Selection Sort  0.004080  -0.831768  0.076858  0.946990\n",
      "2  Insertion Sort  0.005478  -1.183648  0.202637  0.924352\n"
     ]
    }
   ],
   "source": [
    "from sklearn.metrics import mean_squared_error, r2_score\n",
    "\n",
    "import pandas as pd\n",
    "\n",
    "results = []\n",
    "for i, (time, func_name) in enumerate(zip(times, sort_function_names)):\n",
    "    X = ns.reshape(-1, 1)\n",
    "    y = np.array(time)\n",
    "    reg = LinearRegression().fit(X, y)\n",
    "    y_pred = reg.predict(X)\n",
    "    mse = mean_squared_error(y, y_pred)\n",
    "    r2 = r2_score(y, y_pred)\n",
    "    results.append([func_name, reg.coef_[0], reg.intercept_, mse, r2])\n",
    "\n",
    "df = pd.DataFrame(results, columns=[\"Algorithm\", \"Slope\", \"Intercept\", \"MSE\", \"R2\"])\n",
    "print(df)\n"
   ]
  },
  {
   "cell_type": "markdown",
   "metadata": {},
   "source": [
    "fits a linear regression model to each set of time data, using ns as the feature. It then stores the results, including the algorithm name, slope (coefficient), intercept, mean squared error (MSE), and R-squared value, in a list of lists. Finally, the results are displayed in a pandas DataFrame."
   ]
  },
  {
   "cell_type": "markdown",
   "metadata": {},
   "source": [
    "# CREDIT"
   ]
  },
  {
   "cell_type": "markdown",
   "metadata": {},
   "source": [
    "Lasheb mohamed Amine"
   ]
  }
 ],
 "metadata": {
  "kernelspec": {
   "display_name": "Python 3 (ipykernel)",
   "language": "python",
   "name": "python3"
  },
  "language_info": {
   "codemirror_mode": {
    "name": "ipython",
    "version": 3
   },
   "file_extension": ".py",
   "mimetype": "text/x-python",
   "name": "python",
   "nbconvert_exporter": "python",
   "pygments_lexer": "ipython3",
   "version": "3.10.8"
  }
 },
 "nbformat": 4,
 "nbformat_minor": 4
}
